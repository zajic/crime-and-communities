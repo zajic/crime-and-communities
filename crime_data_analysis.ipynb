{
 "cells": [
  {
   "cell_type": "markdown",
   "metadata": {},
   "source": [
    "# Plan of work"
   ]
  },
  {
   "cell_type": "markdown",
   "metadata": {},
   "source": [
    "<ol>\n",
    "    <li><b>Explore dataset</b></li>\n",
    "    <ul>\n",
    "        <li>look at attributes, make assumptions about attributes</li>\n",
    "        <li>look at missing values</li>\n",
    "    <li>decide whether to drop columns with too many missing values</li>\n",
    "        <li>impute missing values</li>\n",
    "    </ul>\n",
    "    <br />\n",
    "    <li> <b>Do some background research</b> </li>\n",
    "    <ul>\n",
    "        <li>what do books and articles say about factors that influence crime?</li>\n",
    "        <li>do we have any of the commonly known factors in our dataset, or can we infer them from the data that we have?</li>\n",
    "        <li>(if there was time we could also explore possibilities to add more data to our dataset)</li>\n",
    "    </ul>\n",
    "    <br />\n",
    "    <li><b>Choose an output (y) attribute</b></li>\n",
    "    <ul>\n",
    "        <li>there is a number of features that can be predicted (the rate of murders, robberies etc.) - for simplicity I will try to create a model that only predicts one of the 18 available attributes</li>\n",
    "        <li>do we need to even predict anything? maybe it would be interesting enough to pinpoint attributes that have some influence on certain crime areas</li>\n",
    "    </ul>\n",
    "    <br />\n",
    "    <li><b>Try some automatic feature selection methods</b></li>\n",
    "    <ul>\n",
    "        <li>which variables are correlated with the output?</li>\n",
    "        <li>random forest feature selection</li>\n",
    "        <li>forward selection, backward selection, stagewise (a little outdated)</li>\n",
    "        <li>research other methods</li>\n",
    "    </ul>\n",
    "    <br />\n",
    "    <li><b>Fit some simple models with a subset of variables and evaluate</b></li>\n",
    "    <ul>\n",
    "        <li>set evaluation criteria: R-squared? AIC?</li>\n",
    "        <li>start with the simple models and fit regression, random forests, kNN, some boosting algorithms, SVMs etc., maybe explore some more methods</li>\n",
    "    </ul>\n",
    "</ol>"
   ]
  },
  {
   "cell_type": "markdown",
   "metadata": {},
   "source": [
    "<img src=\"./imgs/ml_algorithms.png\">"
   ]
  },
  {
   "cell_type": "markdown",
   "metadata": {},
   "source": [
    "Source: https://machinelearningmastery.com/"
   ]
  },
  {
   "cell_type": "markdown",
   "metadata": {
    "collapsed": true
   },
   "source": [
    "# Exploratory analysis"
   ]
  },
  {
   "cell_type": "markdown",
   "metadata": {},
   "source": [
    "## What we know from the description on the UCI website:\n",
    "* data comes from these sources: US Census, Law Enforcement Management and Administrative Statistics Survey, FBI Uniform Crime Reporting\n",
    "* rougly three groups of independent variables: <b>community related</b> (races, urban vs suburban etc.), <b>income</b>, <b>law enforcement</b>\n",
    "* FBI finds this data to be over-simplistic since many relevant data is not included (e.g. number of visitors - communities with large number of visitors will have higher per capita crime rates) \n",
    "\n",
    "<b>2 papers mentioned on the website:</b>\n",
    "* in a paper (Empirical Analysis of Case-Editing Approaches for Numeric Prediction) they decided to normalize the attribute values - we will see about that later but for now I am leaving the data as it is\n",
    "* the above mentioned paper uses kNN method to predict while dropping anomalous and border cases (i.e. rows) to remove noise from data\n",
    "* another paper (Fuzzy Association Rule Mining for Community Crime Pattern Discovery) uses odds ration to select relevant attributes, they also omitted similar attributes (male divorced, female divorced, etc.).\n",
    "They split attribute values to bins (i.e. low, medium, high) based on \"expert knowledge\" and statistical knowledge such as mean and SD. They do not actually create a model but rather a set of rules extracted from the data. Some of the most influential attributes include\n",
    "<ul>\n",
    "* kids born to never married\n",
    "* people living in dense housing\n",
    "* people speaking no English\n",
    "* people commute using public transport\n",
    "* people living in urban area\n",
    "etc.\n",
    "    \n",
    "so we will definitely want to include these among our features.\n",
    "</ul>"
   ]
  },
  {
   "cell_type": "markdown",
   "metadata": {},
   "source": [
    "## Get to know the dataset"
   ]
  },
  {
   "cell_type": "code",
   "execution_count": 6,
   "metadata": {},
   "outputs": [
    {
     "name": "stdout",
     "output_type": "stream",
     "text": [
      "<class 'pandas.core.frame.DataFrame'>\n",
      "RangeIndex: 2215 entries, 0 to 2214\n",
      "Columns: 147 entries, communityname to nonViolPerPop\n",
      "dtypes: float64(75), int64(29), object(43)\n",
      "memory usage: 2.1+ MB\n"
     ]
    }
   ],
   "source": [
    "import pandas as pd\n",
    "import os\n",
    "import numpy as np\n",
    "\n",
    "#increase the column width to print long attribute descriptions\n",
    "pd.set_option('max_colwidth', 100)\n",
    "DATA_DIR = os.path.abspath(os.path.join(os.getcwd(), \"data\"))\n",
    "\n",
    "'''\n",
    "Load dataset\n",
    "'''\n",
    "#parse weka header\n",
    "header_file = open(os.path.join(DATA_DIR, \"unnormalized_header.txt\"), \"r\")\n",
    "header = []\n",
    "for line in header_file:\n",
    "    header.append(line.split(\" \")[1])\n",
    "\n",
    "data = pd.read_csv(os.path.join(DATA_DIR, \"crime_data_unnormalized.txt\"), sep = \",\", header = None, names = header)\n",
    "\n",
    "data.info()"
   ]
  },
  {
   "cell_type": "markdown",
   "metadata": {},
   "source": [
    "Over 2000 rows and nearly 150 attributes. Some of the attributes are actually dependent variables, let's separate them from the independent variables."
   ]
  },
  {
   "cell_type": "code",
   "execution_count": 8,
   "metadata": {},
   "outputs": [
    {
     "name": "stdout",
     "output_type": "stream",
     "text": [
      "Dependent variables:\n",
      "['murders' 'murdPerPop' 'rapes' 'rapesPerPop' 'robberies' 'robbbPerPop'\n",
      " 'assaults' 'assaultPerPop' 'burglaries' 'burglPerPop' 'larcenies'\n",
      " 'larcPerPop' 'autoTheft' 'autoTheftPerPop' 'arsons' 'arsonsPerPop'\n",
      " 'violentPerPop' 'nonViolPerPop']\n"
     ]
    }
   ],
   "source": [
    "#split to X and y\n",
    "y_labels = header[-18:]\n",
    "y = data[y_labels]\n",
    "\n",
    "print(\"Dependent variables:\")\n",
    "print(y.columns.values)\n",
    "\n",
    "X = data.drop(y_labels, axis = 1)"
   ]
  },
  {
   "cell_type": "markdown",
   "metadata": {},
   "source": [
    "The above are the variables we will be predicting.\n",
    "\n",
    "Each category of crime is represented as:\n",
    "<ul>\n",
    "    <li>an absolute value</li>\n",
    "    <li>per capita (per 100,000 inhabitants)</li>\n",
    "</ul>    \n",
    "<b>Violent crime</b> aggregates:\n",
    "<ul>\n",
    "    <li>murder</li>\n",
    "    <li>rape</li>\n",
    "    <li>robbery</li>\n",
    "    <li>assault</li>\n",
    "</ul>    \n",
    "<b>Non-violent crime</b>\n",
    "<ul>\n",
    "    <li>burglaries</li>\n",
    "    <li>larcenies</li>\n",
    "    <li>autotheft</li>\n",
    "    <li>arsons</li>\n",
    "</ul>\n",
    "  \n",
    "Let us look at the independent variables."
   ]
  },
  {
   "cell_type": "code",
   "execution_count": 9,
   "metadata": {},
   "outputs": [
    {
     "name": "stdout",
     "output_type": "stream",
     "text": [
      "Independent variables:\n",
      "communityname : Community name - not predictive - for information only (string)\n",
      "State : US state (by 2 letter postal abbreviation)(nominal)\n",
      "countyCode : numeric code for county - not predictive, and many missing values (numeric)\n",
      "communityCode : numeric code for community - not predictive and many missing values (numeric)\n",
      "fold : fold number for non-random 10 fold cross validation, potentially useful for debugging, paired tests - not predictive (numeric - integer)\n",
      "pop : population for community\n",
      "perHoush : mean people per household (numeric - decimal)\n",
      "pctBlack : percentage of population that is african american (numeric - decimal)\n",
      "pctWhite : percentage of population that is caucasian (numeric - decimal)\n",
      "pctAsian : percentage of population that is of asian heritage (numeric - decimal)\n",
      "pctHisp : percentage of population that is of hispanic heritage (numeric - decimal)\n",
      "pct12-21 : percentage of population that is 12-21 in age (numeric - decimal)\n",
      "pct12-29 : percentage of population that is 12-29 in age (numeric - decimal)\n",
      "pct16-24 : percentage of population that is 16-24 in age (numeric - decimal)\n",
      "pct65up : percentage of population that is 65 and over in age (numeric - decimal)\n",
      "persUrban : number of people living in areas classified as urban (numeric - expected to be integer)\n",
      "pctUrban : percentage of people living in areas classified as urban (numeric - decimal)\n",
      "medIncome : median household income (numeric - may be integer)\n",
      "pctWwage : percentage of households with wage or salary income in 1989 (numeric - decimal)\n",
      "pctWfarm : percentage of households with farm or self employment income in 1989 (numeric - decimal)\n",
      "pctWdiv : percentage of households with investment / rent income in 1989 (numeric - decimal)\n",
      "pctWsocsec : percentage of households with social security income in 1989 (numeric - decimal)\n",
      "pctPubAsst : percentage of households with public assistance income in 1989 (numeric - decimal)\n",
      "pctRetire : percentage of households with retirement income in 1989 (numeric - decimal)\n",
      "medFamIncome : median family income (differs from household income for non-family households) (numeric - may be integer)\n",
      "perCapInc : per capita income (numeric - decimal)\n",
      "whitePerCap : per capita income for caucasians (numeric - decimal)\n",
      "blackPerCap : per capita income for african americans (numeric - decimal)\n",
      "NAperCap : per capita income for native americans (numeric - decimal)\n",
      "asianPerCap : per capita income for people with asian heritage (numeric - decimal)\n",
      "otherPerCap : per capita income for people with 'other' heritage (numeric - decimal)\n",
      "hispPerCap : per capita income for people with hispanic heritage (numeric - decimal)\n",
      "persPoverty : number of people under the poverty level (numeric - expected to be integer)\n",
      "pctPoverty : percentage of people under the poverty level (numeric - decimal)\n",
      "pctLowEdu : percentage of people 25 and over with less than a 9th grade education (numeric - decimal)\n",
      "pctNotHSgrad : percentage of people 25 and over that are not high school graduates (numeric - decimal)\n",
      "pctCollGrad : percentage of people 25 and over with a bachelors degree or higher education (numeric - decimal)\n",
      "pctUnemploy : percentage of people 16 and over, in the labor force, and unemployed (numeric - decimal)\n",
      "pctEmploy : percentage of people 16 and over who are employed (numeric - decimal)\n",
      "pctEmployMfg : percentage of people 16 and over who are employed in manufacturing (numeric - decimal)\n",
      "pctEmployProfServ : percentage of people 16 and over who are employed in professional services (numeric - decimal)\n",
      "pctOccupManu : percentage of people 16 and over who are employed in manufacturing (numeric - decimal) #### No longer sure of difference from PctEmplManu - may include unemployed manufacturing workers ####\n",
      "pctOccupMgmt : percentage of people 16 and over who are employed in management or professional occupations (numeric - decimal)\n",
      "pctMaleDivorc : percentage of males who are divorced (numeric - decimal)\n",
      "pctMaleNevMar : percentage of males who have never married (numeric - decimal)\n",
      "pctFemDivorc : percentage of females who are divorced (numeric - decimal)\n",
      "pctAllDivorc : percentage of population who are divorced (numeric - decimal)\n",
      "persPerFam : mean number of people per family (numeric - decimal)\n",
      "pct2Par : percentage of families (with kids) that are headed by two parents (numeric - decimal)\n",
      "pctKids2Par : percentage of kids in family housing with two parents (numeric - decimal)\n",
      "pctKids-4w2Par : percent of kids 4 and under in two parent households (numeric - decimal)\n",
      "pct12-17w2Par : percent of kids age 12-17 in two parent households (numeric - decimal)\n",
      "pctWorkMom-6 : percentage of moms of kids 6 and under in labor force (numeric - decimal)\n",
      "pctWorkMom-18 : percentage of moms of kids under 18 in labor force (numeric - decimal)\n",
      "kidsBornNevrMarr : number of kids born to never married (numeric - expected to be integer)\n",
      "pctKidsBornNevrMarr : percentage of kids born to never married (numeric - decimal)\n",
      "numForeignBorn : total number of people known to be foreign born (numeric - expected to be integer)\n",
      "pctFgnImmig-3 : percentage of _immigrants_ who immigated within last 3 years (numeric - decimal)\n",
      "pctFgnImmig-5 : percentage of _immigrants_ who immigated within last 5 years (numeric - decimal)\n",
      "pctFgnImmig-8 : percentage of _immigrants_ who immigated within last 8 years (numeric - decimal)\n",
      "pctFgnImmig-10 : percentage of _immigrants_ who immigated within last 10 years (numeric - decimal)\n",
      "pctImmig-3 : percent of _population_ who have immigrated within the last 3 years (numeric - decimal)\n",
      "pctImmig-5 : percent of _population_ who have immigrated within the last 5 years (numeric - decimal)\n",
      "pctImmig-8 : percent of _population_ who have immigrated within the last 8 years (numeric - decimal)\n",
      "pctImmig-10 : percent of _population_ who have immigrated within the last 10 years (numeric - decimal)\n",
      "pctSpeakOnlyEng : percent of people who speak only English (numeric - decimal)\n",
      "pctNotSpeakEng : percent of people who do not speak English well (numeric - decimal)\n",
      "pctLargHousFam : percent of family households that are large (6 or more) (numeric - decimal)\n",
      "pctLargHous : percent of all occupied households that are large (6 or more people) (numeric - decimal)\n",
      "persPerOccupHous : mean persons per household (numeric - decimal)\n",
      "persPerOwnOccup : mean persons per owner occupied household (numeric - decimal)\n",
      "persPerRenterOccup : mean persons per rental household (numeric - decimal)\n",
      "pctPersOwnOccup : percent of people in owner occupied households (numeric - decimal)\n",
      "pctPopDenseHous : percent of persons in dense housing (more than 1 person per room) (numeric - decimal)\n",
      "pctSmallHousUnits : percent of housing units with less than 3 bedrooms (numeric - decimal)\n",
      "medNumBedrm : median number of bedrooms (numeric - decimal)\n",
      "houseVacant : number of vacant households (numeric - expected to be integer)\n",
      "pctHousOccup : percent of housing occupied (numeric - decimal)\n",
      "pctHousOwnerOccup : percent of households owner occupied (numeric - decimal)\n",
      "pctVacantBoarded : percent of vacant housing that is boarded up (numeric - decimal)\n",
      "pctVacant6up : percent of vacant housing that has been vacant more than 6 months (numeric - decimal)\n",
      "medYrHousBuilt : median year housing units built (numeric - may be integer)\n",
      "pctHousWOphone : percent of occupied housing units without phone (in 1990, this was rare!) (numeric - decimal)\n",
      "pctHousWOplumb : percent of housing without complete plumbing facilities (numeric - decimal)\n",
      "ownHousLowQ : owner occupied housing - lower quartile value (numeric - decimal)\n",
      "ownHousMed : owner occupied housing - median value (numeric - decimal)\n",
      "ownHousUperQ : owner occupied housing - upper quartile value (numeric - decimal)\n",
      "ownHousQrange : owner occupied housing - difference between upper quartile and lower quartile values (numeric - decimal)\n",
      "rentLowQ : rental housing - lower quartile rent (numeric - decimal)\n",
      "rentMed : rental housing - median rent (Census variable H32B from file STF1A) (numeric - decimal)\n",
      "rentUpperQ : rental housing - upper quartile rent (numeric - decimal)\n",
      "rentQrange : rental housing - difference between upper quartile and lower quartile rent (numeric - decimal)\n",
      "medGrossRent : median gross rent (Census variable H43A from file STF3A - includes utilities) (numeric - decimal)\n",
      "medRentpctHousInc : median gross rent as a percentage of household income (numeric - decimal)\n",
      "medOwnCostpct : median owners cost as a percentage of household income - for owners with a mortgage (numeric - decimal)\n",
      "medOwnCostPctWO : median owners cost as a percentage of household income - for owners without a mortgage (numeric - decimal)\n",
      "persEmergShelt : number of people in homeless shelters (numeric - expected to be integer)\n",
      "persHomeless : number of homeless people counted in the street (numeric - expected to be integer)\n",
      "pctForeignBorn : percent of people foreign born (numeric - decimal)\n",
      "pctBornStateResid : percent of people born in the same state as currently living (numeric - decimal)\n",
      "pctSameHouse-5 : percent of people living in the same house as in 1985 (5 years before) (numeric - decimal)\n",
      "pctSameCounty-5 : percent of people living in the same city as in 1985 (5 years before) (numeric - decimal)\n",
      "pctSameState-5 : percent of people living in the same state as in 1985 (5 years before) (numeric - decimal)\n",
      "numPolice : number of sworn full time police officers (numeric - expected to be integer)\n",
      "policePerPop : sworn full time police officers per 100K population (numeric - decimal)\n",
      "policeField : number of sworn full time police officers in field operations (on the street as opposed to administrative etc) (numeric - expected to be integer)\n",
      "policeFieldPerPop : sworn full time police officers in field operations (on the street as opposed to administrative etc) per 100K population (numeric - decimal)\n",
      "policeCalls : total requests for police (numeric - expected to be integer)\n",
      "policCallPerPop : total requests for police per 100K popuation (numeric - decimal)\n",
      "policCallPerOffic : total requests for police per police officer (numeric - decimal)\n",
      "policePerPop2 : police officers per 100K population (numeric - decimal)\n",
      "racialMatch : a measure of the racial match between the community and the police force. High values indicate proportions in community and police force are similar (numeric - decimal)\n",
      "pctPolicWhite : percent of police that are caucasian (numeric - decimal)\n",
      "pctPolicBlack : percent of police that are african american (numeric - decimal)\n",
      "pctPolicHisp : percent of police that are hispanic (numeric - decimal)\n",
      "pctPolicAsian : percent of police that are asian (numeric - decimal)\n",
      "pctPolicMinority : percent of police that are minority of any kind (numeric - decimal)\n",
      "officDrugUnits : number of officers assigned to special drug units (numeric - expected to be integer)\n",
      "numDiffDrugsSeiz : number of different kinds of drugs seized (numeric - expected to be integer)\n",
      "policAveOT : police average overtime worked (numeric - decimal)\n",
      "landArea : land area in square miles (numeric - decimal)\n",
      "popDensity : population density in persons per square mile (numeric - decimal)\n",
      "pctUsePubTrans : percent of people using public transit for commuting (numeric - decimal)\n",
      "policCarsAvail : number of police cars (numeric - expected to be integer)\n",
      "policOperBudget : police operating budget (numeric - may be integer)\n",
      "pctPolicPatrol : percent of sworn full time police officers on patrol (numeric - decimal)\n",
      "gangUnit : gang unit deployed (numeric - integer - but really nominal - 0 means NO, 10 means YES, 5 means Part Time)\n",
      "pctOfficDrugUnit : percent of officers assigned to drug units (numeric - decimal)\n",
      "policBudgetPerPop : police operating budget per population (numeric - decimal)\n"
     ]
    }
   ],
   "source": [
    "#load attribute descriptions, keys in the dictionary are dataframe header entries\n",
    "header_description = open(os.path.join(DATA_DIR, \"header_description.txt\"), \"r\")\n",
    "attribute_descr = {}\n",
    "index = 0\n",
    "for line in header_description:\n",
    "    line = line.split(\": \")\n",
    "    attribute_descr[header[index]] = line[1].strip()\n",
    "    index+=1\n",
    "    \n",
    "print(\"Independent variables:\")\n",
    "for name in X.columns.values:\n",
    "    print(name + \" : \" + attribute_descr[name])"
   ]
  },
  {
   "cell_type": "markdown",
   "metadata": {},
   "source": [
    "There will be a lot to filter out since many of the variables are very similar but we will deal with that later."
   ]
  },
  {
   "cell_type": "markdown",
   "metadata": {},
   "source": [
    "## Missing values"
   ]
  },
  {
   "cell_type": "code",
   "execution_count": 3,
   "metadata": {},
   "outputs": [
    {
     "name": "stdout",
     "output_type": "stream",
     "text": [
      "Missing values\n",
      "                   count  percentage\n",
      "policCarsAvail      1872        0.85\n",
      "gangUnit            1872        0.85\n",
      "policOperBudget     1872        0.85\n",
      "policAveOT          1872        0.85\n",
      "numDiffDrugsSeiz    1872        0.85\n",
      "officDrugUnits      1872        0.85\n",
      "pctPolicMinority    1872        0.85\n",
      "pctPolicAsian       1872        0.85\n",
      "pctPolicHisp        1872        0.85\n",
      "pctPolicBlack       1872        0.85\n",
      "pctPolicWhite       1872        0.85\n",
      "racialMatch         1872        0.85\n",
      "policePerPop2       1872        0.85\n",
      "policCallPerOffic   1872        0.85\n",
      "policCallPerPop     1872        0.85\n",
      "policeCalls         1872        0.85\n",
      "policeFieldPerPop   1872        0.85\n",
      "policeField         1872        0.85\n",
      "policePerPop        1872        0.85\n",
      "numPolice           1872        0.85\n",
      "policBudgetPerPop   1872        0.85\n",
      "pctPolicPatrol      1872        0.85\n",
      "communityCode       1224        0.55\n",
      "countyCode          1221        0.55\n",
      "violentPerPop        221        0.10\n",
      "rapesPerPop          208        0.09\n",
      "rapes                208        0.09\n",
      "nonViolPerPop         97        0.04\n",
      "arsonsPerPop          91        0.04\n",
      "arsons                91        0.04\n",
      "assaults              13        0.01\n",
      "assaultPerPop         13        0.01\n",
      "autoTheft              3        0.00\n",
      "autoTheftPerPop        3        0.00\n",
      "burglPerPop            3        0.00\n",
      "larcPerPop             3        0.00\n",
      "larcenies              3        0.00\n",
      "burglaries             3        0.00\n",
      "robbbPerPop            1        0.00\n",
      "robberies              1        0.00\n",
      "otherPerCap            1        0.00\n"
     ]
    }
   ],
   "source": [
    "#replace ? with NaN to mark missing values\n",
    "data = data.replace(\"?\",np.NaN)\n",
    "\n",
    "#calculate count and percentage of missing values per column\n",
    "missing_values = data.isnull().sum()\n",
    "missing_values = pd.DataFrame(missing_values.loc[missing_values != 0], columns = [\"count\"])\n",
    "missing_values['percentage'] = round(missing_values['count']/2215,2)\n",
    "missing_values = missing_values.sort_values(by = 'count', ascending = False)\n",
    "\n",
    "print(\"Missing values\")\n",
    "print(missing_values)"
   ]
  },
  {
   "cell_type": "markdown",
   "metadata": {},
   "source": [
    "We will drop all attributes that have more than 50% of missing values. Unfortunately, these include a lot of the attributes indicating police presence in communities, which could be quite useful."
   ]
  },
  {
   "cell_type": "code",
   "execution_count": 12,
   "metadata": {},
   "outputs": [
    {
     "name": "stdout",
     "output_type": "stream",
     "text": [
      "policCarsAvail                                                  number of police cars (numeric - expected to be integer)\n",
      "gangUnit             gang unit deployed (numeric - integer - but really nominal - 0 means NO, 10 means YES, 5 means P...\n",
      "policOperBudget                                                       police operating budget (numeric - may be integer)\n",
      "policAveOT                                                            police average overtime worked (numeric - decimal)\n",
      "numDiffDrugsSeiz                            number of different kinds of drugs seized (numeric - expected to be integer)\n",
      "officDrugUnits                      number of officers assigned to special drug units (numeric - expected to be integer)\n",
      "pctPolicMinority                                     percent of police that are minority of any kind (numeric - decimal)\n",
      "pctPolicAsian                                                       percent of police that are asian (numeric - decimal)\n",
      "pctPolicHisp                                                     percent of police that are hispanic (numeric - decimal)\n",
      "pctPolicBlack                                            percent of police that are african american (numeric - decimal)\n",
      "pctPolicWhite                                                   percent of police that are caucasian (numeric - decimal)\n",
      "racialMatch          a measure of the racial match between the community and the police force. High values indicate p...\n",
      "policePerPop2                                                    police officers per 100K population (numeric - decimal)\n",
      "policCallPerOffic                                       total requests for police per police officer (numeric - decimal)\n",
      "policCallPerPop                                         total requests for police per 100K popuation (numeric - decimal)\n",
      "policeCalls                                                 total requests for police (numeric - expected to be integer)\n",
      "policeFieldPerPop    sworn full time police officers in field operations (on the street as opposed to administrative ...\n",
      "policeField          number of sworn full time police officers in field operations (on the street as opposed to admin...\n",
      "policePerPop                                     sworn full time police officers per 100K population (numeric - decimal)\n",
      "numPolice                                   number of sworn full time police officers (numeric - expected to be integer)\n",
      "policBudgetPerPop                                             police operating budget per population (numeric - decimal)\n",
      "pctPolicPatrol                                  percent of sworn full time police officers on patrol (numeric - decimal)\n",
      "communityCode                              numeric code for community - not predictive and many missing values (numeric)\n",
      "countyCode                                   numeric code for county - not predictive, and many missing values (numeric)\n",
      "Name: description, dtype: object\n"
     ]
    }
   ],
   "source": [
    "#replace ? with NaN to mark missing values\n",
    "data = data.replace(\"?\",np.NaN)\n",
    "\n",
    "def find_missing_values(data):\n",
    "    #calculate count and percentage of missing values per column\n",
    "    missing_values = data.isnull().sum()\n",
    "    missing_values = pd.DataFrame(missing_values.loc[missing_values != 0], columns = [\"count\"])\n",
    "    missing_values['percentage'] = round(missing_values['count']/data.shape[0],2)\n",
    "    missing_values = missing_values.sort_values(by = 'count', ascending = False)\n",
    "    return missing_values\n",
    "\n",
    "missing_values = find_missing_values(data)\n",
    "\n",
    "#get description of each attribute with missing values\n",
    "attr_with_missing_values = missing_values.index.tolist()\n",
    "#append the description to the dataframe\n",
    "missing_values['description'] = pd.Series([attribute_descr[key] for key in attr_with_missing_values]).values\n",
    "\n",
    "print(missing_values[missing_values[\"percentage\"] > 0.5].loc[:,\"description\"])\n",
    "\n",
    "columns_with_too_many_missing = missing_values[missing_values[\"percentage\"] > 0.5]\n",
    "data = data.drop(columns_with_too_many_missing.index.values, axis = 1)"
   ]
  },
  {
   "cell_type": "markdown",
   "metadata": {},
   "source": [
    "The rest of attributes with missing values are dependent variables so we will worry about those in the future depending on which attributes we predict. There is one exception: one missing value in <b>otherPerCap</b> (per capita income for people with 'other' heritage), which is probably not crucial but we will impute it just to learn about imputation methods in Python."
   ]
  },
  {
   "cell_type": "code",
   "execution_count": 5,
   "metadata": {},
   "outputs": [
    {
     "name": "stdout",
     "output_type": "stream",
     "text": [
      "Remaining missing values\n",
      "                 count  percentage\n",
      "violentPerPop      221        0.10\n",
      "rapesPerPop        208        0.09\n",
      "rapes              208        0.09\n",
      "nonViolPerPop       97        0.04\n",
      "arsonsPerPop        91        0.04\n",
      "arsons              91        0.04\n",
      "assaults            13        0.01\n",
      "assaultPerPop       13        0.01\n",
      "autoTheft            3        0.00\n",
      "autoTheftPerPop      3        0.00\n",
      "burglPerPop          3        0.00\n",
      "larcPerPop           3        0.00\n",
      "larcenies            3        0.00\n",
      "burglaries           3        0.00\n",
      "robbbPerPop          1        0.00\n",
      "robberies            1        0.00\n",
      "otherPerCap          1        0.00\n"
     ]
    }
   ],
   "source": [
    "print(\"Remaining missing values\")\n",
    "missing_values = find_missing_values(data)\n",
    "print(missing_values)"
   ]
  },
  {
   "cell_type": "markdown",
   "metadata": {},
   "source": [
    "## Data imputation (not really necessary but good to know)"
   ]
  },
  {
   "cell_type": "markdown",
   "metadata": {},
   "source": [
    "Since there is only one value missing we will not try to figure out whether it is missing and random, missing not at random etc. Apparently, there are all these ways to impute missing data:"
   ]
  },
  {
   "cell_type": "markdown",
   "metadata": {},
   "source": [
    "<img src='./imgs/imputation_methods.png' width = '50%'>"
   ]
  },
  {
   "cell_type": "markdown",
   "metadata": {},
   "source": [
    "Source: <a src='https://medium.com/ibm-data-science-experience/missing-data-conundrum-exploration-and-imputation-techniques-9f40abe0fd87'>IBM Watson Data</a>"
   ]
  },
  {
   "cell_type": "markdown",
   "metadata": {},
   "source": [
    "I experimented with MICE and Miss Forest in R in the past so this time let's try something new: <b>kNN imputation</b> with Python fancyimpute.\n",
    "\n",
    "Normally, if there were more missing values I would <b>validate the imputation methods</b> for example by taking the complete cases, seed missing values at random, fill them in with various imputation methods and then calculate some measure of error for each method. This would be an overkill in our case.\n",
    "\n",
    "Update: fancyimpute has keras and tensorflow as requirements...I don't wanna go there (tensorflow + windows = disaster). This is getting too complicated for one line of data. Deleting the line and moving on."
   ]
  },
  {
   "cell_type": "code",
   "execution_count": null,
   "metadata": {},
   "outputs": [],
   "source": []
  }
 ],
 "metadata": {
  "kernelspec": {
   "display_name": "Python 3",
   "language": "python",
   "name": "python3"
  },
  "language_info": {
   "codemirror_mode": {
    "name": "ipython",
    "version": 3
   },
   "file_extension": ".py",
   "mimetype": "text/x-python",
   "name": "python",
   "nbconvert_exporter": "python",
   "pygments_lexer": "ipython3",
   "version": "3.6.1"
  }
 },
 "nbformat": 4,
 "nbformat_minor": 1
}
